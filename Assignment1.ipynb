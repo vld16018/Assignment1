{
  "nbformat": 4,
  "nbformat_minor": 0,
  "metadata": {
    "colab": {
      "name": "Assignment1.ipynb",
      "version": "0.3.2",
      "provenance": [],
      "collapsed_sections": [],
      "include_colab_link": true
    },
    "kernelspec": {
      "name": "python3",
      "display_name": "Python 3"
    },
    "accelerator": "GPU"
  },
  "cells": [
    {
      "cell_type": "markdown",
      "metadata": {
        "id": "view-in-github",
        "colab_type": "text"
      },
      "source": [
        "<a href=\"https://colab.research.google.com/github/vld16018/Assignment1/blob/master/Assignment1.ipynb\" target=\"_parent\"><img src=\"https://colab.research.google.com/assets/colab-badge.svg\" alt=\"Open In Colab\"/></a>"
      ]
    },
    {
      "cell_type": "code",
      "metadata": {
        "id": "KkwXnw9OfHZl",
        "colab_type": "code",
        "colab": {}
      },
      "source": [
        "from keras import backend as K\n",
        "import time\n",
        "import matplotlib.pyplot as plt\n",
        "import numpy as np\n",
        "% matplotlib inline\n",
        "np.random.seed(2017) \n",
        "from keras.models import Sequential\n",
        "from keras.layers.convolutional import Convolution2D, MaxPooling2D\n",
        "from keras.layers import Activation, Flatten, Dense, Dropout\n",
        "from keras.layers.normalization import BatchNormalization\n",
        "from keras.utils import np_utils\n",
        "from keras.preprocessing.image import ImageDataGenerator\n",
        "from keras import regularizers\n",
        "from keras.optimizers import SGD\n",
        "import matplotlib.pyplot as plt\n",
        "from keras.models import model_from_json"
      ],
      "execution_count": 0,
      "outputs": []
    },
    {
      "cell_type": "code",
      "metadata": {
        "id": "vxQ5RTSvo3o0",
        "colab_type": "code",
        "outputId": "b6423736-dffd-4542-dc0b-18687d53bef4",
        "colab": {
          "base_uri": "https://localhost:8080/",
          "height": 124
        }
      },
      "source": [
        "from google.colab import drive\n",
        "drive.mount('/content/gdrive')\n",
        "#drive.mount('/content/gdrive')\n",
        "root_path = 'gdrive/My Drive/AI/'"
      ],
      "execution_count": 0,
      "outputs": [
        {
          "output_type": "stream",
          "text": [
            "Go to this URL in a browser: https://accounts.google.com/o/oauth2/auth?client_id=947318989803-6bn6qk8qdgf4n4g3pfee6491hc0brc4i.apps.googleusercontent.com&redirect_uri=urn%3Aietf%3Awg%3Aoauth%3A2.0%3Aoob&scope=email%20https%3A%2F%2Fwww.googleapis.com%2Fauth%2Fdocs.test%20https%3A%2F%2Fwww.googleapis.com%2Fauth%2Fdrive%20https%3A%2F%2Fwww.googleapis.com%2Fauth%2Fdrive.photos.readonly%20https%3A%2F%2Fwww.googleapis.com%2Fauth%2Fpeopleapi.readonly&response_type=code\n",
            "\n",
            "Enter your authorization code:\n",
            "··········\n",
            "Mounted at /content/gdrive\n"
          ],
          "name": "stdout"
        }
      ]
    },
    {
      "cell_type": "code",
      "metadata": {
        "id": "Zs0QzkMXBAMo",
        "colab_type": "code",
        "outputId": "7e4c8f18-734c-4cd2-9ef3-2aa7e522bb8d",
        "colab": {
          "base_uri": "https://localhost:8080/",
          "height": 35
        }
      },
      "source": [
        "from zipfile import ZipFile\n",
        "file_name = root_path + \"/Dataset.zip\"\n",
        "#file_name = \"Image_2.zip\"\n",
        "with ZipFile(file_name ,'r') as zip:\n",
        "  zip.extractall()\n",
        "  print (\"Done\")\n",
        "#!rm -rf \"Dataset.zip\""
      ],
      "execution_count": 0,
      "outputs": [
        {
          "output_type": "stream",
          "text": [
            "Done\n"
          ],
          "name": "stdout"
        }
      ]
    },
    {
      "cell_type": "markdown",
      "metadata": {
        "id": "yH8fq3BzikIx",
        "colab_type": "text"
      },
      "source": [
        "4 categories from 4 classes of train dataset as seen after folder extraction\n",
        "The train categories will be used for traing and validation with 80% for training  and  20% for validation"
      ]
    },
    {
      "cell_type": "markdown",
      "metadata": {
        "id": "J68uoavECPRO",
        "colab_type": "text"
      },
      "source": [
        "Creating a datagen class to convert them into train and test \n",
        "Normalise the data\n",
        "By default the image gets converted to 254*254 from 800*800\n",
        "As its  a black and white image using gray scale for analysing the data\n",
        "3 channel only required if data is present in them "
      ]
    },
    {
      "cell_type": "code",
      "metadata": {
        "id": "ozR6Z6hTCqau",
        "colab_type": "code",
        "outputId": "82e7e93b-57cc-414f-dd2b-a5cd360208fc",
        "colab": {
          "base_uri": "https://localhost:8080/",
          "height": 549
        }
      },
      "source": [
        "# create a data generator\n",
        "datagen = ImageDataGenerator(rescale=1.0/255.0,featurewise_center=True, featurewise_std_normalization=True,rotation_range=90,width_shift_range=0.1, height_shift_range=0.1,horizontal_flip=True)\n",
        "#Cannot do fit for dataset\n",
        "train_set = datagen.flow_from_directory('Dataset/train/', class_mode='categorical', color_mode = \"grayscale\",batch_size=5)\n",
        "\n",
        "# load and iterate validation dataset\n",
        "#test_set = datagen.flow_from_directory('Dataset/test/',target_size=(200, 200),class_mode='categorical', color_mode = \"grayscale\",batch_size=1)\n",
        "test_set = datagen.flow_from_directory('Dataset/test/',class_mode='categorical', color_mode = \"grayscale\",batch_size=1)\n",
        "\n",
        "\n",
        "print('Batches train=%d, test=%d' % (len(train_set), len(test_set)))\n",
        "# confirm the scaling works\n",
        "batchX, batchy = train_set.next()\n",
        "print('Batch shape=%s, mean=%.3f min=%.3f, max=%.3f' % (batchX.shape, batchX.mean(),batchX.min(), batchX.max()))\n",
        "print('Batch shape=%s, mean=%.3f min=%.3f, max=%.3f' % (batchy.shape, batchX.mean(),batchX.min(), batchX.max()))\n",
        "print (batchy)\n",
        "image = batchX[4,:,:,:]\n",
        "print(image.shape)\n",
        "a = np.expand_dims(image, axis=0)  # or axis=1\n",
        "plt.imshow(image[:,:,0],cmap = 'gray')\n",
        "plt.show()\n",
        "#plt.imshow(batchX[0,:,:,:],cmap='gray')"
      ],
      "execution_count": 0,
      "outputs": [
        {
          "output_type": "stream",
          "text": [
            "Found 440 images belonging to 4 classes.\n",
            "Found 30 images belonging to 4 classes.\n",
            "Batches train=88, test=30\n",
            "Batch shape=(5, 256, 256, 1), mean=0.605 min=0.000, max=1.000\n",
            "Batch shape=(5, 4), mean=0.605 min=0.000, max=1.000\n",
            "[[0. 0. 1. 0.]\n",
            " [0. 0. 1. 0.]\n",
            " [0. 0. 0. 1.]\n",
            " [0. 0. 0. 1.]\n",
            " [0. 0. 1. 0.]]\n",
            "(256, 256, 1)\n"
          ],
          "name": "stdout"
        },
        {
          "output_type": "stream",
          "text": [
            "/usr/local/lib/python3.6/dist-packages/keras_preprocessing/image/image_data_generator.py:716: UserWarning: This ImageDataGenerator specifies `featurewise_center`, but it hasn't been fit on any training data. Fit it first by calling `.fit(numpy_data)`.\n",
            "  warnings.warn('This ImageDataGenerator specifies '\n",
            "/usr/local/lib/python3.6/dist-packages/keras_preprocessing/image/image_data_generator.py:724: UserWarning: This ImageDataGenerator specifies `featurewise_std_normalization`, but it hasn't been fit on any training data. Fit it first by calling `.fit(numpy_data)`.\n",
            "  warnings.warn('This ImageDataGenerator specifies '\n"
          ],
          "name": "stderr"
        },
        {
          "output_type": "display_data",
          "data": {
            "image/png": "[encoded data removed]",
            "text/plain": [
              "<Figure size 432x288 with 1 Axes>"
            ]
          },
          "metadata": {
            "tags": []
          }
        }
      ]
    },
    {
      "cell_type": "code",
      "metadata": {
        "id": "6lopzKh6q7rl",
        "colab_type": "code",
        "colab": {}
      },
      "source": [
        ""
      ],
      "execution_count": 0,
      "outputs": []
    },
    {
      "cell_type": "code",
      "metadata": {
        "id": "YJMT4rjgfdZz",
        "colab_type": "code",
        "colab": {}
      },
      "source": [
        "def accuracy(test_x, test_y, model):\n",
        "    result = model.predict(test_x)\n",
        "    predicted_class = np.argmax(result, axis=1)\n",
        "    true_class = np.argmax(test_y, axis=1)\n",
        "    num_correct = np.sum(predicted_class == true_class) \n",
        "    accuracy = float(num_correct)/result.shape[0]\n",
        "    return (accuracy * 100)"
      ],
      "execution_count": 0,
      "outputs": []
    },
    {
      "cell_type": "markdown",
      "metadata": {
        "id": "ITXAtS0mgbhG",
        "colab_type": "text"
      },
      "source": [
        "Validation accuracy received is 0.8211 for the previous model for 100 epoch's\n",
        "\n",
        "\n",
        "1.   Model sequential with bottleneck layer after 3 conv layers and then max pooling is applied\n",
        "2.   Batch Norm & Dropout for regularisation \n",
        "3.   Adding l2 regularisation, tuned different values for max accuarcy  \n",
        "4.   Adding dropout increases to 0.7575 with 0.01  for 40 epoch\n",
        "5   Making architectural changes to existing architecture gives 86% to 90% in  20 epoch's\n",
        "6.  Architectural changes are with respect to receptive field. Each conv layer comment   contains layer output and receptive field calculation\n",
        "7.   Using 3*3 for reducing parameters in convolution layer\n",
        "8.   Getting an accuracy of 20% for SGD then shiifted to Adam\n",
        "9.  Cross_entropy was giving the above mentioned accuracy but when added bacth norm i the last layer it increased it to 86%. \n",
        "\n",
        "\n",
        "\n"
      ]
    },
    {
      "cell_type": "code",
      "metadata": {
        "id": "cSOb2lkJfhVq",
        "colab_type": "code",
        "outputId": "c10e6bde-69a5-4ea5-ae26-16e70b75a2c1",
        "colab": {
          "base_uri": "https://localhost:8080/",
          "height": 315
        }
      },
      "source": [
        "\n",
        "# Define the model\n",
        "model = Sequential()\n",
        "\n",
        "model.add(Convolution2D(64, 3, 3,activation='relu',input_shape=(256, 256, 1),kernel_regularizer=regularizers.l2(0.0001))) #256,3\n",
        "model.add(BatchNormalization())\n",
        "model.add(Dropout(0.1))\n",
        "\n",
        "model.add(Convolution2D(128, 3, 3,activation='relu',kernel_regularizer=regularizers.l2(0.0001))) #254 #5\n",
        "model.add(BatchNormalization())\n",
        "model.add(Dropout(0.1))\n",
        "\n",
        "model.add(Convolution2D(256, 3, 3,activation='relu',kernel_regularizer=regularizers.l2(0.0001))) #252 #7\n",
        "model.add(BatchNormalization())\n",
        "model.add(Dropout(0.1))\n",
        "#7\n",
        "\n",
        "model.add(MaxPooling2D(pool_size=(2, 2)))  #126 #14\n",
        "model.add(Dropout(0.1))\n",
        "\n",
        "#126 #14\n",
        "model.add(Convolution2D(32, 3, 3, activation='relu',kernel_regularizer=regularizers.l2(0.0001))) #124 #16\n",
        "model.add(BatchNormalization())\n",
        "model.add(Dropout(0.1))\n",
        "\n",
        "model.add(Convolution2D(64, 3, 3,activation='relu',kernel_regularizer=regularizers.l2(0.0001))) #122 #18\n",
        "model.add(BatchNormalization())\n",
        "model.add(Dropout(0.1))\n",
        "\n",
        "model.add(Convolution2D(128, 3, 3,activation='relu',kernel_regularizer=regularizers.l2(0.0001))) #120 #20\n",
        "model.add(BatchNormalization())\n",
        "model.add(Dropout(0.1)) #20\n",
        "\n",
        "model.add(MaxPooling2D(pool_size=(2, 2)))#60 #40 actually ask regarding these #200\n",
        "model.add(Dropout(0.1))\n",
        "\n",
        "#200 40\n",
        "model.add(Convolution2D(32, 3, 3, activation='relu',kernel_regularizer=regularizers.l2(0.0001))) #58 #42\n",
        "model.add(BatchNormalization())\n",
        "model.add(Dropout(0.1))\n",
        "\n",
        "model.add(Convolution2D(64, 3, 3,activation='relu',kernel_regularizer=regularizers.l2(0.0001))) #56 #44\n",
        "model.add(BatchNormalization())\n",
        "model.add(Dropout(0.1))\n",
        "\n",
        "model.add(Convolution2D(128, 3, 3,activation='relu',kernel_regularizer=regularizers.l2(0.0001))) #54 #46\n",
        "model.add(BatchNormalization())\n",
        "model.add(Dropout(0.1)) #42\n",
        "\n",
        "model.add(MaxPooling2D(pool_size=(2, 2)))#27 #92 actually ask regarding these 100\n",
        "model.add(Dropout(0.1))\n",
        "\n",
        "\n",
        "model.add(Convolution2D(64, 3, 3, activation='relu',kernel_regularizer=regularizers.l2(0.0001))) #25 #94\n",
        "model.add(BatchNormalization())\n",
        "model.add(Dropout(0.1))\n",
        "\n",
        "model.add(Convolution2D(64, 3, 3,activation='relu',kernel_regularizer=regularizers.l2(0.0001))) #23 #96\n",
        "model.add(BatchNormalization())\n",
        "model.add(Dropout(0.1))\n",
        "\n",
        "model.add(Convolution2D(64, 3, 3,activation='relu',kernel_regularizer=regularizers.l2(0.0001))) #21 #98\n",
        "model.add(BatchNormalization()) #98\n",
        "model.add(Dropout(0.1))\n",
        "\n",
        "model.add(MaxPooling2D(pool_size=(2, 2)))#11 #196 actually ask regarding these 50\n",
        "model.add(Dropout(0.1))\n",
        "\n",
        "model.add(Convolution2D(4, 10,10,activation='relu',kernel_regularizer=regularizers.l2(0.0001))) #4 #206\n",
        "model.add(BatchNormalization())\n",
        "#model.add(Dropout(0.1))\n",
        "# Compile model\n",
        "\n",
        "model.add(Flatten())\n",
        "model.add(Activation('softmax'))\n",
        "epochs = 10\n",
        "learning_rate = 0.09\n",
        "decay_rate = learning_rate / epochs\n",
        "momentum = 0.5\n",
        "sgd = SGD(lr=learning_rate, momentum=momentum, decay=decay_rate, nesterov=False)\n",
        "# Compile the model\n",
        "model.compile(optimizer='adam', loss='categorical_crossentropy', metrics=['accuracy'])\n",
        "\n"
      ],
      "execution_count": 0,
      "outputs": [
        {
          "output_type": "stream",
          "text": [
            "/usr/local/lib/python3.6/dist-packages/ipykernel_launcher.py:3: UserWarning: Update your `Conv2D` call to the Keras 2 API: `Conv2D(64, (3, 3), activation=\"relu\", input_shape=(256, 256,..., kernel_regularizer=<keras.reg...)`\n",
            "  This is separate from the ipykernel package so we can avoid doing imports until\n",
            "/usr/local/lib/python3.6/dist-packages/ipykernel_launcher.py:7: UserWarning: Update your `Conv2D` call to the Keras 2 API: `Conv2D(128, (3, 3), activation=\"relu\", kernel_regularizer=<keras.reg...)`\n",
            "  import sys\n",
            "/usr/local/lib/python3.6/dist-packages/ipykernel_launcher.py:11: UserWarning: Update your `Conv2D` call to the Keras 2 API: `Conv2D(256, (3, 3), activation=\"relu\", kernel_regularizer=<keras.reg...)`\n",
            "  # This is added back by InteractiveShellApp.init_path()\n",
            "/usr/local/lib/python3.6/dist-packages/ipykernel_launcher.py:20: UserWarning: Update your `Conv2D` call to the Keras 2 API: `Conv2D(32, (3, 3), activation=\"relu\", kernel_regularizer=<keras.reg...)`\n",
            "/usr/local/lib/python3.6/dist-packages/ipykernel_launcher.py:24: UserWarning: Update your `Conv2D` call to the Keras 2 API: `Conv2D(64, (3, 3), activation=\"relu\", kernel_regularizer=<keras.reg...)`\n",
            "/usr/local/lib/python3.6/dist-packages/ipykernel_launcher.py:28: UserWarning: Update your `Conv2D` call to the Keras 2 API: `Conv2D(128, (3, 3), activation=\"relu\", kernel_regularizer=<keras.reg...)`\n",
            "/usr/local/lib/python3.6/dist-packages/ipykernel_launcher.py:36: UserWarning: Update your `Conv2D` call to the Keras 2 API: `Conv2D(32, (3, 3), activation=\"relu\", kernel_regularizer=<keras.reg...)`\n",
            "/usr/local/lib/python3.6/dist-packages/ipykernel_launcher.py:40: UserWarning: Update your `Conv2D` call to the Keras 2 API: `Conv2D(64, (3, 3), activation=\"relu\", kernel_regularizer=<keras.reg...)`\n",
            "/usr/local/lib/python3.6/dist-packages/ipykernel_launcher.py:44: UserWarning: Update your `Conv2D` call to the Keras 2 API: `Conv2D(128, (3, 3), activation=\"relu\", kernel_regularizer=<keras.reg...)`\n",
            "/usr/local/lib/python3.6/dist-packages/ipykernel_launcher.py:52: UserWarning: Update your `Conv2D` call to the Keras 2 API: `Conv2D(64, (3, 3), activation=\"relu\", kernel_regularizer=<keras.reg...)`\n",
            "/usr/local/lib/python3.6/dist-packages/ipykernel_launcher.py:56: UserWarning: Update your `Conv2D` call to the Keras 2 API: `Conv2D(64, (3, 3), activation=\"relu\", kernel_regularizer=<keras.reg...)`\n",
            "/usr/local/lib/python3.6/dist-packages/ipykernel_launcher.py:60: UserWarning: Update your `Conv2D` call to the Keras 2 API: `Conv2D(64, (3, 3), activation=\"relu\", kernel_regularizer=<keras.reg...)`\n",
            "/usr/local/lib/python3.6/dist-packages/ipykernel_launcher.py:67: UserWarning: Update your `Conv2D` call to the Keras 2 API: `Conv2D(4, (10, 10), activation=\"relu\", kernel_regularizer=<keras.reg...)`\n"
          ],
          "name": "stderr"
        }
      ]
    },
    {
      "cell_type": "code",
      "metadata": {
        "id": "wvVs5tC8mR6Q",
        "colab_type": "code",
        "outputId": "85776dc3-e4d7-4e12-a926-b9b91875e500",
        "colab": {
          "base_uri": "https://localhost:8080/",
          "height": 1000
        }
      },
      "source": [
        "model.summary()"
      ],
      "execution_count": 0,
      "outputs": [
        {
          "output_type": "stream",
          "text": [
            "_________________________________________________________________\n",
            "Layer (type)                 Output Shape              Param #   \n",
            "=================================================================\n",
            "conv2d_170 (Conv2D)          (None, 254, 254, 64)      640       \n",
            "_________________________________________________________________\n",
            "batch_normalization_158 (Bat (None, 254, 254, 64)      256       \n",
            "_________________________________________________________________\n",
            "dropout_210 (Dropout)        (None, 254, 254, 64)      0         \n",
            "_________________________________________________________________\n",
            "conv2d_171 (Conv2D)          (None, 252, 252, 128)     73856     \n",
            "_________________________________________________________________\n",
            "batch_normalization_159 (Bat (None, 252, 252, 128)     512       \n",
            "_________________________________________________________________\n",
            "dropout_211 (Dropout)        (None, 252, 252, 128)     0         \n",
            "_________________________________________________________________\n",
            "conv2d_172 (Conv2D)          (None, 250, 250, 256)     295168    \n",
            "_________________________________________________________________\n",
            "batch_normalization_160 (Bat (None, 250, 250, 256)     1024      \n",
            "_________________________________________________________________\n",
            "dropout_212 (Dropout)        (None, 250, 250, 256)     0         \n",
            "_________________________________________________________________\n",
            "max_pooling2d_53 (MaxPooling (None, 125, 125, 256)     0         \n",
            "_________________________________________________________________\n",
            "dropout_213 (Dropout)        (None, 125, 125, 256)     0         \n",
            "_________________________________________________________________\n",
            "conv2d_173 (Conv2D)          (None, 123, 123, 32)      73760     \n",
            "_________________________________________________________________\n",
            "batch_normalization_161 (Bat (None, 123, 123, 32)      128       \n",
            "_________________________________________________________________\n",
            "dropout_214 (Dropout)        (None, 123, 123, 32)      0         \n",
            "_________________________________________________________________\n",
            "conv2d_174 (Conv2D)          (None, 121, 121, 64)      18496     \n",
            "_________________________________________________________________\n",
            "batch_normalization_162 (Bat (None, 121, 121, 64)      256       \n",
            "_________________________________________________________________\n",
            "dropout_215 (Dropout)        (None, 121, 121, 64)      0         \n",
            "_________________________________________________________________\n",
            "conv2d_175 (Conv2D)          (None, 119, 119, 128)     73856     \n",
            "_________________________________________________________________\n",
            "batch_normalization_163 (Bat (None, 119, 119, 128)     512       \n",
            "_________________________________________________________________\n",
            "dropout_216 (Dropout)        (None, 119, 119, 128)     0         \n",
            "_________________________________________________________________\n",
            "max_pooling2d_54 (MaxPooling (None, 59, 59, 128)       0         \n",
            "_________________________________________________________________\n",
            "dropout_217 (Dropout)        (None, 59, 59, 128)       0         \n",
            "_________________________________________________________________\n",
            "conv2d_176 (Conv2D)          (None, 57, 57, 32)        36896     \n",
            "_________________________________________________________________\n",
            "batch_normalization_164 (Bat (None, 57, 57, 32)        128       \n",
            "_________________________________________________________________\n",
            "dropout_218 (Dropout)        (None, 57, 57, 32)        0         \n",
            "_________________________________________________________________\n",
            "conv2d_177 (Conv2D)          (None, 55, 55, 64)        18496     \n",
            "_________________________________________________________________\n",
            "batch_normalization_165 (Bat (None, 55, 55, 64)        256       \n",
            "_________________________________________________________________\n",
            "dropout_219 (Dropout)        (None, 55, 55, 64)        0         \n",
            "_________________________________________________________________\n",
            "conv2d_178 (Conv2D)          (None, 53, 53, 128)       73856     \n",
            "_________________________________________________________________\n",
            "batch_normalization_166 (Bat (None, 53, 53, 128)       512       \n",
            "_________________________________________________________________\n",
            "dropout_220 (Dropout)        (None, 53, 53, 128)       0         \n",
            "_________________________________________________________________\n",
            "max_pooling2d_55 (MaxPooling (None, 26, 26, 128)       0         \n",
            "_________________________________________________________________\n",
            "dropout_221 (Dropout)        (None, 26, 26, 128)       0         \n",
            "_________________________________________________________________\n",
            "conv2d_179 (Conv2D)          (None, 24, 24, 64)        73792     \n",
            "_________________________________________________________________\n",
            "batch_normalization_167 (Bat (None, 24, 24, 64)        256       \n",
            "_________________________________________________________________\n",
            "dropout_222 (Dropout)        (None, 24, 24, 64)        0         \n",
            "_________________________________________________________________\n",
            "conv2d_180 (Conv2D)          (None, 22, 22, 64)        36928     \n",
            "_________________________________________________________________\n",
            "batch_normalization_168 (Bat (None, 22, 22, 64)        256       \n",
            "_________________________________________________________________\n",
            "dropout_223 (Dropout)        (None, 22, 22, 64)        0         \n",
            "_________________________________________________________________\n",
            "conv2d_181 (Conv2D)          (None, 20, 20, 64)        36928     \n",
            "_________________________________________________________________\n",
            "batch_normalization_169 (Bat (None, 20, 20, 64)        256       \n",
            "_________________________________________________________________\n",
            "dropout_224 (Dropout)        (None, 20, 20, 64)        0         \n",
            "_________________________________________________________________\n",
            "max_pooling2d_56 (MaxPooling (None, 10, 10, 64)        0         \n",
            "_________________________________________________________________\n",
            "dropout_225 (Dropout)        (None, 10, 10, 64)        0         \n",
            "_________________________________________________________________\n",
            "conv2d_182 (Conv2D)          (None, 1, 1, 4)           25604     \n",
            "_________________________________________________________________\n",
            "batch_normalization_170 (Bat (None, 1, 1, 4)           16        \n",
            "_________________________________________________________________\n",
            "flatten_14 (Flatten)         (None, 4)                 0         \n",
            "_________________________________________________________________\n",
            "activation_14 (Activation)   (None, 4)                 0         \n",
            "=================================================================\n",
            "Total params: 842,644\n",
            "Trainable params: 840,460\n",
            "Non-trainable params: 2,184\n",
            "_________________________________________________________________\n"
          ],
          "name": "stdout"
        }
      ]
    },
    {
      "cell_type": "code",
      "metadata": {
        "id": "5oK_V7WyfsXX",
        "colab_type": "code",
        "outputId": "d1c7d5e0-25e8-4880-915f-4f1fe2ab8a45",
        "colab": {
          "base_uri": "https://localhost:8080/",
          "height": 1000
        }
      },
      "source": [
        "from keras.preprocessing.image import ImageDataGenerator\n",
        "from keras.optimizers import Adam\n",
        "from keras.callbacks import LearningRateScheduler\n",
        "\n",
        "def scheduler(epoch, lr):\n",
        "  return round(0.0001 * 1/(1 + 0.319 * epoch), 10)\n",
        "\n",
        "#datagen = ImageDataGenerator(zoom_range=0.0, \n",
        "                            # horizontal_flip=False)\n",
        "\n",
        "\n",
        "# train the model\n",
        "start = time.time()\n",
        "# Train the model\n",
        "#model_info = model.fit_generator(datagen.flow(train_features, train_labels, batch_size = 128),\n",
        "#                                 samples_per_epoch = train_features.shape[0], nb_epoch = 100,validation_data=(X_test_iterator),validation_steps=len(X_test_iterator),\n",
        "#                                  verbose=1)\n",
        "\n",
        "#model_info = model.fit_generator(X_train_iterator, steps_per_epoch=len(X_train_iterator), epochs=80, verbose=1, validation_data=(X_test_iterator),validation_steps=len(X_test_iterator),callbacks=[LearningRateScheduler(scheduler, verbose=1)])\n",
        "#model_info = model.fit_generator(train_set, steps_per_epoch=88, epochs=10, verbose=1, validation_data=(test_set),validation_steps=30,callbacks=[LearningRateScheduler(scheduler, verbose=1)])\n",
        "model_info = model.fit_generator(train_set, steps_per_epoch=70, epochs=20, verbose=1, validation_data=(train_set),validation_steps=18,callbacks=[LearningRateScheduler(scheduler, verbose=1)])\n",
        "\n",
        "#model.fit(X_train, Y_train, batch_size=32, nb_epoch=10, verbose=1)\n",
        "end = time.time()\n",
        "print (\"Model took %0.2f seconds to train\"%(end - start))\n",
        "_, acc = model.evaluate_generator(test_set, steps=len(test_set), verbose=0)\n",
        "print('Test Accuracy: %.3f' % (acc * 100))\n",
        "# plot model history\n",
        "#plot_model_history(model_info)\n",
        "# compute test accuracy\n"
      ],
      "execution_count": 0,
      "outputs": [
        {
          "output_type": "stream",
          "text": [
            "Epoch 1/20\n",
            "\n",
            "Epoch 00001: LearningRateScheduler setting learning rate to 0.0001.\n"
          ],
          "name": "stdout"
        },
        {
          "output_type": "stream",
          "text": [
            "/usr/local/lib/python3.6/dist-packages/keras_preprocessing/image/image_data_generator.py:716: UserWarning: This ImageDataGenerator specifies `featurewise_center`, but it hasn't been fit on any training data. Fit it first by calling `.fit(numpy_data)`.\n",
            "  warnings.warn('This ImageDataGenerator specifies '\n",
            "/usr/local/lib/python3.6/dist-packages/keras_preprocessing/image/image_data_generator.py:724: UserWarning: This ImageDataGenerator specifies `featurewise_std_normalization`, but it hasn't been fit on any training data. Fit it first by calling `.fit(numpy_data)`.\n",
            "  warnings.warn('This ImageDataGenerator specifies '\n"
          ],
          "name": "stderr"
        },
        {
          "output_type": "stream",
          "text": [
            "70/70 [==============================] - 23s 322ms/step - loss: 0.5377 - acc: 0.8686 - val_loss: 0.6819 - val_acc: 0.8000\n",
            "Epoch 2/20\n",
            "\n",
            "Epoch 00002: LearningRateScheduler setting learning rate to 7.5815e-05.\n",
            "70/70 [==============================] - 23s 323ms/step - loss: 0.5579 - acc: 0.8571 - val_loss: 0.6266 - val_acc: 0.8889\n",
            "Epoch 3/20\n",
            "\n",
            "Epoch 00003: LearningRateScheduler setting learning rate to 6.10501e-05.\n",
            "70/70 [==============================] - 22s 321ms/step - loss: 0.5939 - acc: 0.8200 - val_loss: 0.7352 - val_acc: 0.8444\n",
            "Epoch 4/20\n",
            "\n",
            "Epoch 00004: LearningRateScheduler setting learning rate to 5.10986e-05.\n",
            "70/70 [==============================] - 22s 320ms/step - loss: 0.5271 - acc: 0.8629 - val_loss: 0.5780 - val_acc: 0.9222\n",
            "Epoch 5/20\n",
            "\n",
            "Epoch 00005: LearningRateScheduler setting learning rate to 4.39367e-05.\n",
            "70/70 [==============================] - 22s 319ms/step - loss: 0.5861 - acc: 0.8257 - val_loss: 0.6950 - val_acc: 0.8556\n",
            "Epoch 6/20\n",
            "\n",
            "Epoch 00006: LearningRateScheduler setting learning rate to 3.85356e-05.\n",
            "70/70 [==============================] - 22s 320ms/step - loss: 0.5807 - acc: 0.8486 - val_loss: 0.6172 - val_acc: 0.8889\n",
            "Epoch 7/20\n",
            "\n",
            "Epoch 00007: LearningRateScheduler setting learning rate to 3.43171e-05.\n",
            "70/70 [==============================] - 22s 321ms/step - loss: 0.6253 - acc: 0.8429 - val_loss: 0.5904 - val_acc: 0.9000\n",
            "Epoch 8/20\n",
            "\n",
            "Epoch 00008: LearningRateScheduler setting learning rate to 3.0931e-05.\n",
            "70/70 [==============================] - 22s 320ms/step - loss: 0.5241 - acc: 0.8914 - val_loss: 0.5322 - val_acc: 0.9222\n",
            "Epoch 9/20\n",
            "\n",
            "Epoch 00009: LearningRateScheduler setting learning rate to 2.81532e-05.\n",
            "70/70 [==============================] - 22s 320ms/step - loss: 0.5841 - acc: 0.8486 - val_loss: 0.5418 - val_acc: 0.9000\n",
            "Epoch 10/20\n",
            "\n",
            "Epoch 00010: LearningRateScheduler setting learning rate to 2.58331e-05.\n",
            "70/70 [==============================] - 22s 320ms/step - loss: 0.5866 - acc: 0.8686 - val_loss: 0.5549 - val_acc: 0.9444\n",
            "Epoch 11/20\n",
            "\n",
            "Epoch 00011: LearningRateScheduler setting learning rate to 2.38663e-05.\n",
            "70/70 [==============================] - 22s 321ms/step - loss: 0.5856 - acc: 0.8486 - val_loss: 0.5609 - val_acc: 0.9222\n",
            "Epoch 12/20\n",
            "\n",
            "Epoch 00012: LearningRateScheduler setting learning rate to 2.21779e-05.\n",
            "70/70 [==============================] - 22s 320ms/step - loss: 0.5515 - acc: 0.8743 - val_loss: 0.5821 - val_acc: 0.8889\n",
            "Epoch 13/20\n",
            "\n",
            "Epoch 00013: LearningRateScheduler setting learning rate to 2.07125e-05.\n",
            "70/70 [==============================] - 22s 320ms/step - loss: 0.5466 - acc: 0.8571 - val_loss: 0.5594 - val_acc: 0.9000\n",
            "Epoch 14/20\n",
            "\n",
            "Epoch 00014: LearningRateScheduler setting learning rate to 1.94288e-05.\n",
            "70/70 [==============================] - 22s 320ms/step - loss: 0.6058 - acc: 0.8371 - val_loss: 0.5840 - val_acc: 0.9111\n",
            "Epoch 15/20\n",
            "\n",
            "Epoch 00015: LearningRateScheduler setting learning rate to 1.82949e-05.\n",
            "70/70 [==============================] - 22s 320ms/step - loss: 0.5874 - acc: 0.8457 - val_loss: 0.5481 - val_acc: 0.9222\n",
            "Epoch 16/20\n",
            "\n",
            "Epoch 00016: LearningRateScheduler setting learning rate to 1.72861e-05.\n",
            "70/70 [==============================] - 22s 320ms/step - loss: 0.5492 - acc: 0.8600 - val_loss: 0.5655 - val_acc: 0.9111\n",
            "Epoch 17/20\n",
            "\n",
            "Epoch 00017: LearningRateScheduler setting learning rate to 1.63827e-05.\n",
            "70/70 [==============================] - 22s 320ms/step - loss: 0.5411 - acc: 0.8571 - val_loss: 0.6132 - val_acc: 0.9111\n",
            "Epoch 18/20\n",
            "\n",
            "Epoch 00018: LearningRateScheduler setting learning rate to 1.5569e-05.\n",
            "70/70 [==============================] - 22s 320ms/step - loss: 0.4969 - acc: 0.8914 - val_loss: 0.5707 - val_acc: 0.9000\n",
            "Epoch 19/20\n",
            "\n",
            "Epoch 00019: LearningRateScheduler setting learning rate to 1.48324e-05.\n",
            "70/70 [==============================] - 22s 320ms/step - loss: 0.5062 - acc: 0.8943 - val_loss: 0.5628 - val_acc: 0.9222\n",
            "Epoch 20/20\n",
            "\n",
            "Epoch 00020: LearningRateScheduler setting learning rate to 1.41623e-05.\n",
            "70/70 [==============================] - 22s 320ms/step - loss: 0.5433 - acc: 0.8800 - val_loss: 0.5799 - val_acc: 0.8889\n",
            "Model took 448.80 seconds to train\n",
            "Test Accuracy: 96.667\n"
          ],
          "name": "stdout"
        }
      ]
    },
    {
      "cell_type": "code",
      "metadata": {
        "id": "n5ZlRssx8Pil",
        "colab_type": "code",
        "outputId": "6c82dec9-d870-4a7c-8d99-00872e191f78",
        "colab": {
          "base_uri": "https://localhost:8080/",
          "height": 35
        }
      },
      "source": [
        "# serialize model to JSON\n",
        "model_json = model.to_json()\n",
        "with open(\"model.json\", \"w\") as json_file:\n",
        "    json_file.write(model_json)\n",
        "# serialize weights to HDF5\n",
        "model.save_weights(\"model.h5\")\n",
        "print(\"Saved model to disk\")"
      ],
      "execution_count": 0,
      "outputs": [
        {
          "output_type": "stream",
          "text": [
            "Saved model to disk\n"
          ],
          "name": "stdout"
        }
      ]
    },
    {
      "cell_type": "code",
      "metadata": {
        "id": "0ERAVnpA9yI6",
        "colab_type": "code",
        "colab": {}
      },
      "source": [
        "# load json and create model\n",
        "json_file = open('model.json', 'r')\n",
        "loaded_model_json = json_file.read()\n",
        "json_file.close()\n",
        "loaded_model = model_from_json(loaded_model_json)\n",
        "# load weights into new model\n",
        "loaded_model.load_weights(\"model.h5\")\n",
        "print(\"Loaded model from disk\")\n",
        " \n",
        "# evaluate loaded model on test data\n",
        "loaded_model.compile(optimizer='adam', loss='categorical_crossentropy', metrics=['accuracy'])\n",
        "_, acc = model.evaluate_generator(test_set, steps=len(test_set), verbose=0)\n",
        "print('Test Accuracy: %.3f' % (acc * 100))"
      ],
      "execution_count": 0,
      "outputs": []
    }
  ]
}